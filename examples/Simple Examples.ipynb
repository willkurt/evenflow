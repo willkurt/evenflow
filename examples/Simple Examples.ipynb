{
 "cells": [
  {
   "cell_type": "code",
   "execution_count": 1,
   "id": "ea6622e3",
   "metadata": {},
   "outputs": [],
   "source": [
    "from evenflow import flowable, compose_flow"
   ]
  },
  {
   "cell_type": "markdown",
   "id": "2b8830eb",
   "metadata": {},
   "source": [
    "## Hello World"
   ]
  },
  {
   "cell_type": "code",
   "execution_count": 2,
   "id": "dad863e1",
   "metadata": {},
   "outputs": [],
   "source": [
    "@flowable('hello_statement')\n",
    "def say_hello(name, department):\n",
    "    return f\"Hello {name} from the {department} dept!\"\n",
    "\n",
    "@flowable('name')\n",
    "def lookup_name(email):\n",
    "    name_dict = {\n",
    "        \"will@countbayesie.com\": \"Will Kurt\",\n",
    "        \"emil@notreal.xyz\": \"Emil Cioran\",\n",
    "        \"sogol@daumal.net\": \"Professor Sogol\"\n",
    "    }\n",
    "    return name_dict.get(email,\"unknown\")\n",
    "\n",
    "@flowable('department')\n",
    "def lookup_department(email):\n",
    "    dept_dict = {\n",
    "        \"will@countbayesie.com\": \"English\",\n",
    "        \"emil@notreal.xyz\": \"Philosophy\",\n",
    "        \"sogol@daumal.net\": \"Logic\"\n",
    "    }\n",
    "    return dept_dict.get(email,\"unknown\")"
   ]
  },
  {
   "cell_type": "code",
   "execution_count": 3,
   "id": "8d0d2ba6",
   "metadata": {},
   "outputs": [],
   "source": [
    "hello_world = compose_flow([say_hello, lookup_name, lookup_department])"
   ]
  },
  {
   "cell_type": "code",
   "execution_count": 4,
   "id": "4d7fc1e9",
   "metadata": {},
   "outputs": [
    {
     "data": {
      "text/plain": [
       "'Hello Will Kurt from the English dept!'"
      ]
     },
     "execution_count": 4,
     "metadata": {},
     "output_type": "execute_result"
    }
   ],
   "source": [
    "hello_world(\"will@countbayesie.com\")"
   ]
  },
  {
   "cell_type": "code",
   "execution_count": 9,
   "id": "af2c8271",
   "metadata": {},
   "outputs": [],
   "source": [
    "hello_world_incomplete = compose_flow([say_hello, lookup_name])"
   ]
  },
  {
   "cell_type": "code",
   "execution_count": 10,
   "id": "ccca175b",
   "metadata": {},
   "outputs": [
    {
     "data": {
      "text/plain": [
       "<function evenflow.compose.compute_hello_statement(email, department)>"
      ]
     },
     "execution_count": 10,
     "metadata": {},
     "output_type": "execute_result"
    }
   ],
   "source": [
    "hello_world_incomplete"
   ]
  },
  {
   "cell_type": "code",
   "execution_count": 12,
   "id": "963dc6f3",
   "metadata": {},
   "outputs": [
    {
     "data": {
      "text/plain": [
       "'Hello Emil Cioran from the philosophy dept!'"
      ]
     },
     "execution_count": 12,
     "metadata": {},
     "output_type": "execute_result"
    }
   ],
   "source": [
    "hello_world_incomplete('emil@notreal.xyz',\"philosophy\")"
   ]
  },
  {
   "cell_type": "code",
   "execution_count": 14,
   "id": "354dd467",
   "metadata": {},
   "outputs": [
    {
     "data": {
      "text/plain": [
       "'Hello Professor Sogol from the Logic dept!'"
      ]
     },
     "execution_count": 14,
     "metadata": {},
     "output_type": "execute_result"
    }
   ],
   "source": [
    "hello_world_fixed = compose_flow([hello_world_incomplete, lookup_department])\n",
    "hello_world_fixed(\"sogol@daumal.net\")"
   ]
  }
 ],
 "metadata": {
  "kernelspec": {
   "display_name": "Python 3 (ipykernel)",
   "language": "python",
   "name": "python3"
  },
  "language_info": {
   "codemirror_mode": {
    "name": "ipython",
    "version": 3
   },
   "file_extension": ".py",
   "mimetype": "text/x-python",
   "name": "python",
   "nbconvert_exporter": "python",
   "pygments_lexer": "ipython3",
   "version": "3.10.12"
  }
 },
 "nbformat": 4,
 "nbformat_minor": 5
}
